{
 "cells": [
  {
   "cell_type": "code",
   "execution_count": 60,
   "metadata": {},
   "outputs": [],
   "source": [
    "from bs4 import BeautifulSoup\n",
    "import requests\n",
    "import pandas as pd"
   ]
  },
  {
   "cell_type": "code",
   "execution_count": 3,
   "metadata": {},
   "outputs": [],
   "source": [
    "url='https://en.wikipedia.org/wiki/Economy_of_the_European_Union'"
   ]
  },
  {
   "cell_type": "code",
   "execution_count": 6,
   "metadata": {},
   "outputs": [],
   "source": [
    "response = requests.get(url)"
   ]
  },
  {
   "cell_type": "code",
   "execution_count": 9,
   "metadata": {},
   "outputs": [
    {
     "data": {
      "text/plain": [
       "'<!DOCTYPE html>\\n<html class=\"client-nojs\" lang=\"en\" dir=\"ltr\">\\n<head>\\n<meta charset=\"UTF-8\"/>\\n<title>Economy of the European Union - Wikipedia</title>\\n<script>document.documentElement.className = document.documentElement.className.replace( /(^|\\\\s)client-nojs(\\\\s|$)/, \"$1client-js$2\" );</script>\\n<script>(window.RLQ=window.RLQ||[]).push(function(){mw.config.set({\"wgCanonicalNamespace\":\"\",\"wgCanonicalSpecialPageName\":false,\"wgNamespaceNumber\":0,\"wgPageName\":\"Economy_of_the_European_Union\",\"wgTitle\":\"Economy of the European Union\",\"wgCurRevisionId\":880199556,\"wgRevisionId\":880199556,\"wgArticleId\":1598533,\"wgIsArticle\":true,\"wgIsRedirect\":false,\"wgAction\":\"view\",\"wgUserName\":null,\"wgUserGroups\":[\"*\"],\"wgCategories\":[\"CS1 German-language sources (de)\",\"Use British English from March 2013\",\"Use dmy dates from March 2018\",\"All articles with unsourced statements\",\"Articles with unsourced statements from September 2016\",\"Commons category link is on Wikidata\",\"Pages with graphs\",\"Economy of the Eu'"
      ]
     },
     "execution_count": 9,
     "metadata": {},
     "output_type": "execute_result"
    }
   ],
   "source": [
    "html =  response.text\n",
    "html[:1000]"
   ]
  },
  {
   "cell_type": "code",
   "execution_count": 10,
   "metadata": {},
   "outputs": [],
   "source": [
    "soup = BeautifulSoup(html,'html.parser')"
   ]
  },
  {
   "cell_type": "code",
   "execution_count": 11,
   "metadata": {},
   "outputs": [],
   "source": [
    "tables= soup.findAll('table',{'class':'wikitable'})"
   ]
  },
  {
   "cell_type": "code",
   "execution_count": 16,
   "metadata": {},
   "outputs": [
    {
     "data": {
      "text/plain": [
       "17"
      ]
     },
     "execution_count": 16,
     "metadata": {},
     "output_type": "execute_result"
    }
   ],
   "source": [
    "len(tables)\n"
   ]
  },
  {
   "cell_type": "code",
   "execution_count": 23,
   "metadata": {},
   "outputs": [
    {
     "data": {
      "text/plain": [
       "<table class=\"wikitable\">\n",
       "<caption>Fortune top 10 E.U. corporations by revenue (2016)<sup class=\"reference\" id=\"cite_ref-fortune500_51-0\"><a href=\"#cite_note-fortune500-51\">[51]</a></sup>\n",
       "</caption>\n",
       "<tbody><tr>\n",
       "<th>Rank</th>\n",
       "<th>Corporation</th>\n",
       "<th>Stock ticker</th>\n",
       "<th>Revenue $ millions</th>\n",
       "<th>Profit $ millions</th>\n",
       "<th>Employees</th>\n",
       "<th>Headquarters</th>\n",
       "<th>Industry\n",
       "</th></tr>\n",
       "<tr>\n",
       "<td>1</td>\n",
       "<td><a href=\"/wiki/Royal_Dutch_Shell\" title=\"Royal Dutch Shell\">Royal Dutch Shell</a></td>\n",
       "<td>RDS.A</td>\n",
       "<td>272,156</td>\n",
       "<td>1,939</td>\n",
       "<td>90,000</td>\n",
       "<td><a href=\"/wiki/Shell_Centre\" title=\"Shell Centre\">Shell Centre</a>, <a href=\"/wiki/London\" title=\"London\">London</a>, UK, and <a href=\"/wiki/The_Hague\" title=\"The Hague\">The Hague</a>, Netherlands</td>\n",
       "<td>Energy\n",
       "</td></tr>\n",
       "<tr>\n",
       "<td>2</td>\n",
       "<td><a href=\"/wiki/Volkswagen_Group\" title=\"Volkswagen Group\">Volkswagen</a></td>\n",
       "<td>VLKAY</td>\n",
       "<td>236,600</td>\n",
       "<td>-1,520</td>\n",
       "<td>610,076</td>\n",
       "<td><a href=\"/wiki/Wolfsburg\" title=\"Wolfsburg\">Wolfsburg</a>, Germany</td>\n",
       "<td>Motor Vehicles &amp; Parts\n",
       "</td></tr>\n",
       "<tr>\n",
       "<td>3</td>\n",
       "<td><a href=\"/wiki/BP\" title=\"BP\">BP PLC</a></td>\n",
       "<td>BP.L</td>\n",
       "<td>183,000</td>\n",
       "<td>4,100</td>\n",
       "<td>74,500</td>\n",
       "<td><a href=\"/wiki/London\" title=\"London\">London</a>, UK</td>\n",
       "<td>Energy\n",
       "</td></tr>\n",
       "<tr>\n",
       "<td>4</td>\n",
       "<td><a href=\"/wiki/Daimler_AG\" title=\"Daimler AG\">Daimler</a></td>\n",
       "<td>DDAIY</td>\n",
       "<td>165,800</td>\n",
       "<td>9,345</td>\n",
       "<td>284,015</td>\n",
       "<td><a href=\"/wiki/Stuttgart\" title=\"Stuttgart\">Stuttgart</a>, Germany</td>\n",
       "<td>Motor Vehicles &amp; Parts\n",
       "</td></tr>\n",
       "<tr>\n",
       "<td>5</td>\n",
       "<td><a href=\"/wiki/Exor_(company)\" title=\"Exor (company)\">EXOR Group</a></td>\n",
       "<td>EXOSF</td>\n",
       "<td>152,591</td>\n",
       "<td>825</td>\n",
       "<td>303,247</td>\n",
       "<td><a href=\"/wiki/Turin\" title=\"Turin\">Turin</a>, Italy</td>\n",
       "<td>Financials\n",
       "</td></tr>\n",
       "<tr>\n",
       "<td>6</td>\n",
       "<td><a href=\"/wiki/Total_S.A.\" title=\"Total S.A.\">Total</a></td>\n",
       "<td>TOT</td>\n",
       "<td>143,421</td>\n",
       "<td>5,087</td>\n",
       "<td>96,019</td>\n",
       "<td><a href=\"/wiki/Paris\" title=\"Paris\">Paris</a>, France</td>\n",
       "<td>Energy\n",
       "</td></tr>\n",
       "<tr>\n",
       "<td>7</td>\n",
       "<td><a href=\"/wiki/E.ON\" title=\"E.ON\">E.ON</a></td>\n",
       "<td>EONGY</td>\n",
       "<td>129,277</td>\n",
       "<td>-7,764</td>\n",
       "<td>56,490</td>\n",
       "<td><a href=\"/wiki/Essen\" title=\"Essen\">Essen</a>, Germany</td>\n",
       "<td>Energy\n",
       "</td></tr>\n",
       "<tr>\n",
       "<td>8</td>\n",
       "<td><a href=\"/wiki/AXA\" title=\"AXA\">AXA</a></td>\n",
       "<td>AXAHY</td>\n",
       "<td>129,250</td>\n",
       "<td>6,231</td>\n",
       "<td>98,279</td>\n",
       "<td><a href=\"/wiki/Paris\" title=\"Paris\">Paris</a>, France</td>\n",
       "<td>Financials\n",
       "</td></tr>\n",
       "<tr>\n",
       "<td>9</td>\n",
       "<td><a href=\"/wiki/Allianz\" title=\"Allianz\">Allianz</a></td>\n",
       "<td>AZSEY</td>\n",
       "<td>122,948</td>\n",
       "<td>7,339</td>\n",
       "<td>142,459</td>\n",
       "<td><a href=\"/wiki/Munich\" title=\"Munich\">Munich</a>, Germany</td>\n",
       "<td>Financials\n",
       "</td></tr>\n",
       "<tr>\n",
       "<td>10</td>\n",
       "<td><a href=\"/wiki/BNP_Paribas\" title=\"BNP Paribas\">BNP Paribas</a></td>\n",
       "<td>BNPQY</td>\n",
       "<td>111,531</td>\n",
       "<td>7,426</td>\n",
       "<td>181,551</td>\n",
       "<td><a href=\"/wiki/Paris\" title=\"Paris\">Paris</a>, France</td>\n",
       "<td>Financials\n",
       "</td></tr></tbody></table>"
      ]
     },
     "execution_count": 23,
     "metadata": {},
     "output_type": "execute_result"
    }
   ],
   "source": [
    "table_1= tables[0]\n",
    "table_1"
   ]
  },
  {
   "cell_type": "code",
   "execution_count": 26,
   "metadata": {},
   "outputs": [
    {
     "data": {
      "text/plain": [
       "11"
      ]
     },
     "execution_count": 26,
     "metadata": {},
     "output_type": "execute_result"
    }
   ],
   "source": [
    "rows= table_1.findAll('tr')\n",
    "len(rows)"
   ]
  },
  {
   "cell_type": "code",
   "execution_count": 44,
   "metadata": {},
   "outputs": [
    {
     "data": {
      "text/plain": [
       "[8, 8, 8, 8, 8, 8, 8, 8, 8, 8, 8]"
      ]
     },
     "execution_count": 44,
     "metadata": {},
     "output_type": "execute_result"
    }
   ],
   "source": [
    "col_len= [len(r.findAll(['th','td'])) for r in rows]\n",
    "col_len"
   ]
  },
  {
   "cell_type": "code",
   "execution_count": 46,
   "metadata": {},
   "outputs": [
    {
     "data": {
      "text/plain": [
       "8"
      ]
     },
     "execution_count": 46,
     "metadata": {},
     "output_type": "execute_result"
    }
   ],
   "source": [
    "n_cols=max(col_len)\n",
    "n_cols"
   ]
  },
  {
   "cell_type": "code",
   "execution_count": 48,
   "metadata": {},
   "outputs": [
    {
     "data": {
      "text/plain": [
       "11"
      ]
     },
     "execution_count": 48,
     "metadata": {},
     "output_type": "execute_result"
    }
   ],
   "source": [
    "n_rows=len(rows)\n",
    "n_rows"
   ]
  },
  {
   "cell_type": "code",
   "execution_count": 69,
   "metadata": {},
   "outputs": [],
   "source": [
    "data=[]\n",
    "for i in range(n_rows):\n",
    "    rowD=[]\n",
    "    for j in range(n_cols):\n",
    "        rowD.append('')\n",
    "    data.append(rowD)"
   ]
  },
  {
   "cell_type": "code",
   "execution_count": 70,
   "metadata": {},
   "outputs": [
    {
     "data": {
      "text/plain": [
       "[['', '', '', '', '', '', '', ''],\n",
       " ['', '', '', '', '', '', '', ''],\n",
       " ['', '', '', '', '', '', '', ''],\n",
       " ['', '', '', '', '', '', '', ''],\n",
       " ['', '', '', '', '', '', '', ''],\n",
       " ['', '', '', '', '', '', '', ''],\n",
       " ['', '', '', '', '', '', '', ''],\n",
       " ['', '', '', '', '', '', '', ''],\n",
       " ['', '', '', '', '', '', '', ''],\n",
       " ['', '', '', '', '', '', '', ''],\n",
       " ['', '', '', '', '', '', '', '']]"
      ]
     },
     "execution_count": 70,
     "metadata": {},
     "output_type": "execute_result"
    }
   ],
   "source": [
    "data"
   ]
  },
  {
   "cell_type": "code",
   "execution_count": 73,
   "metadata": {},
   "outputs": [
    {
     "data": {
      "text/plain": [
       "[['Rank',\n",
       "  'Corporation',\n",
       "  'Stock ticker',\n",
       "  'Revenue $ millions',\n",
       "  'Profit $ millions',\n",
       "  'Employees',\n",
       "  'Headquarters',\n",
       "  'Industry\\n'],\n",
       " ['1',\n",
       "  'Royal Dutch Shell',\n",
       "  'RDS.A',\n",
       "  '272,156',\n",
       "  '1,939',\n",
       "  '90,000',\n",
       "  'Shell Centre, London, UK, and The Hague, Netherlands',\n",
       "  'Energy\\n'],\n",
       " ['2',\n",
       "  'Volkswagen',\n",
       "  'VLKAY',\n",
       "  '236,600',\n",
       "  '-1,520',\n",
       "  '610,076',\n",
       "  'Wolfsburg, Germany',\n",
       "  'Motor Vehicles & Parts\\n'],\n",
       " ['3',\n",
       "  'BP PLC',\n",
       "  'BP.L',\n",
       "  '183,000',\n",
       "  '4,100',\n",
       "  '74,500',\n",
       "  'London, UK',\n",
       "  'Energy\\n'],\n",
       " ['4',\n",
       "  'Daimler',\n",
       "  'DDAIY',\n",
       "  '165,800',\n",
       "  '9,345',\n",
       "  '284,015',\n",
       "  'Stuttgart, Germany',\n",
       "  'Motor Vehicles & Parts\\n'],\n",
       " ['5',\n",
       "  'EXOR Group',\n",
       "  'EXOSF',\n",
       "  '152,591',\n",
       "  '825',\n",
       "  '303,247',\n",
       "  'Turin, Italy',\n",
       "  'Financials\\n'],\n",
       " ['6',\n",
       "  'Total',\n",
       "  'TOT',\n",
       "  '143,421',\n",
       "  '5,087',\n",
       "  '96,019',\n",
       "  'Paris, France',\n",
       "  'Energy\\n'],\n",
       " ['7',\n",
       "  'E.ON',\n",
       "  'EONGY',\n",
       "  '129,277',\n",
       "  '-7,764',\n",
       "  '56,490',\n",
       "  'Essen, Germany',\n",
       "  'Energy\\n'],\n",
       " ['8',\n",
       "  'AXA',\n",
       "  'AXAHY',\n",
       "  '129,250',\n",
       "  '6,231',\n",
       "  '98,279',\n",
       "  'Paris, France',\n",
       "  'Financials\\n'],\n",
       " ['9',\n",
       "  'Allianz',\n",
       "  'AZSEY',\n",
       "  '122,948',\n",
       "  '7,339',\n",
       "  '142,459',\n",
       "  'Munich, Germany',\n",
       "  'Financials\\n'],\n",
       " ['10',\n",
       "  'BNP Paribas',\n",
       "  'BNPQY',\n",
       "  '111,531',\n",
       "  '7,426',\n",
       "  '181,551',\n",
       "  'Paris, France',\n",
       "  'Financials\\n']]"
      ]
     },
     "execution_count": 73,
     "metadata": {},
     "output_type": "execute_result"
    }
   ],
   "source": [
    "for i in range(n_rows):\n",
    "    row=rows[i]\n",
    "    cells=row.findAll(['th','td'])\n",
    "    for j in range(n_cols):\n",
    "        data[i][j]=cells[j].text\n",
    "data "
   ]
  },
  {
   "cell_type": "code",
   "execution_count": 58,
   "metadata": {},
   "outputs": [
    {
     "data": {
      "text/plain": [
       "['Rank',\n",
       " 'Corporation',\n",
       " 'Stock ticker',\n",
       " 'Revenue $ millions',\n",
       " 'Profit $ millions',\n",
       " 'Employees',\n",
       " 'Headquarters',\n",
       " 'Industry\\n']"
      ]
     },
     "execution_count": 58,
     "metadata": {},
     "output_type": "execute_result"
    }
   ],
   "source": [
    "data_cols=data[0]\n",
    "data_cols"
   ]
  },
  {
   "cell_type": "code",
   "execution_count": 74,
   "metadata": {},
   "outputs": [
    {
     "data": {
      "text/html": [
       "<div>\n",
       "<style scoped>\n",
       "    .dataframe tbody tr th:only-of-type {\n",
       "        vertical-align: middle;\n",
       "    }\n",
       "\n",
       "    .dataframe tbody tr th {\n",
       "        vertical-align: top;\n",
       "    }\n",
       "\n",
       "    .dataframe thead th {\n",
       "        text-align: right;\n",
       "    }\n",
       "</style>\n",
       "<table border=\"1\" class=\"dataframe\">\n",
       "  <thead>\n",
       "    <tr style=\"text-align: right;\">\n",
       "      <th></th>\n",
       "      <th>Rank</th>\n",
       "      <th>Corporation</th>\n",
       "      <th>Stock ticker</th>\n",
       "      <th>Revenue $ millions</th>\n",
       "      <th>Profit $ millions</th>\n",
       "      <th>Employees</th>\n",
       "      <th>Headquarters</th>\n",
       "      <th>Industry</th>\n",
       "    </tr>\n",
       "  </thead>\n",
       "  <tbody>\n",
       "    <tr>\n",
       "      <th>0</th>\n",
       "      <td>Rank</td>\n",
       "      <td>Corporation</td>\n",
       "      <td>Stock ticker</td>\n",
       "      <td>Revenue $ millions</td>\n",
       "      <td>Profit $ millions</td>\n",
       "      <td>Employees</td>\n",
       "      <td>Headquarters</td>\n",
       "      <td>Industry\\n</td>\n",
       "    </tr>\n",
       "    <tr>\n",
       "      <th>1</th>\n",
       "      <td>1</td>\n",
       "      <td>Royal Dutch Shell</td>\n",
       "      <td>RDS.A</td>\n",
       "      <td>272,156</td>\n",
       "      <td>1,939</td>\n",
       "      <td>90,000</td>\n",
       "      <td>Shell Centre, London, UK, and The Hague, Nethe...</td>\n",
       "      <td>Energy\\n</td>\n",
       "    </tr>\n",
       "    <tr>\n",
       "      <th>2</th>\n",
       "      <td>2</td>\n",
       "      <td>Volkswagen</td>\n",
       "      <td>VLKAY</td>\n",
       "      <td>236,600</td>\n",
       "      <td>-1,520</td>\n",
       "      <td>610,076</td>\n",
       "      <td>Wolfsburg, Germany</td>\n",
       "      <td>Motor Vehicles &amp; Parts\\n</td>\n",
       "    </tr>\n",
       "    <tr>\n",
       "      <th>3</th>\n",
       "      <td>3</td>\n",
       "      <td>BP PLC</td>\n",
       "      <td>BP.L</td>\n",
       "      <td>183,000</td>\n",
       "      <td>4,100</td>\n",
       "      <td>74,500</td>\n",
       "      <td>London, UK</td>\n",
       "      <td>Energy\\n</td>\n",
       "    </tr>\n",
       "    <tr>\n",
       "      <th>4</th>\n",
       "      <td>4</td>\n",
       "      <td>Daimler</td>\n",
       "      <td>DDAIY</td>\n",
       "      <td>165,800</td>\n",
       "      <td>9,345</td>\n",
       "      <td>284,015</td>\n",
       "      <td>Stuttgart, Germany</td>\n",
       "      <td>Motor Vehicles &amp; Parts\\n</td>\n",
       "    </tr>\n",
       "    <tr>\n",
       "      <th>5</th>\n",
       "      <td>5</td>\n",
       "      <td>EXOR Group</td>\n",
       "      <td>EXOSF</td>\n",
       "      <td>152,591</td>\n",
       "      <td>825</td>\n",
       "      <td>303,247</td>\n",
       "      <td>Turin, Italy</td>\n",
       "      <td>Financials\\n</td>\n",
       "    </tr>\n",
       "    <tr>\n",
       "      <th>6</th>\n",
       "      <td>6</td>\n",
       "      <td>Total</td>\n",
       "      <td>TOT</td>\n",
       "      <td>143,421</td>\n",
       "      <td>5,087</td>\n",
       "      <td>96,019</td>\n",
       "      <td>Paris, France</td>\n",
       "      <td>Energy\\n</td>\n",
       "    </tr>\n",
       "    <tr>\n",
       "      <th>7</th>\n",
       "      <td>7</td>\n",
       "      <td>E.ON</td>\n",
       "      <td>EONGY</td>\n",
       "      <td>129,277</td>\n",
       "      <td>-7,764</td>\n",
       "      <td>56,490</td>\n",
       "      <td>Essen, Germany</td>\n",
       "      <td>Energy\\n</td>\n",
       "    </tr>\n",
       "    <tr>\n",
       "      <th>8</th>\n",
       "      <td>8</td>\n",
       "      <td>AXA</td>\n",
       "      <td>AXAHY</td>\n",
       "      <td>129,250</td>\n",
       "      <td>6,231</td>\n",
       "      <td>98,279</td>\n",
       "      <td>Paris, France</td>\n",
       "      <td>Financials\\n</td>\n",
       "    </tr>\n",
       "    <tr>\n",
       "      <th>9</th>\n",
       "      <td>9</td>\n",
       "      <td>Allianz</td>\n",
       "      <td>AZSEY</td>\n",
       "      <td>122,948</td>\n",
       "      <td>7,339</td>\n",
       "      <td>142,459</td>\n",
       "      <td>Munich, Germany</td>\n",
       "      <td>Financials\\n</td>\n",
       "    </tr>\n",
       "    <tr>\n",
       "      <th>10</th>\n",
       "      <td>10</td>\n",
       "      <td>BNP Paribas</td>\n",
       "      <td>BNPQY</td>\n",
       "      <td>111,531</td>\n",
       "      <td>7,426</td>\n",
       "      <td>181,551</td>\n",
       "      <td>Paris, France</td>\n",
       "      <td>Financials\\n</td>\n",
       "    </tr>\n",
       "  </tbody>\n",
       "</table>\n",
       "</div>"
      ],
      "text/plain": [
       "    Rank        Corporation  Stock ticker  Revenue $ millions  \\\n",
       "0   Rank        Corporation  Stock ticker  Revenue $ millions   \n",
       "1      1  Royal Dutch Shell         RDS.A             272,156   \n",
       "2      2         Volkswagen         VLKAY             236,600   \n",
       "3      3             BP PLC          BP.L             183,000   \n",
       "4      4            Daimler         DDAIY             165,800   \n",
       "5      5         EXOR Group         EXOSF             152,591   \n",
       "6      6              Total           TOT             143,421   \n",
       "7      7               E.ON         EONGY             129,277   \n",
       "8      8                AXA         AXAHY             129,250   \n",
       "9      9            Allianz         AZSEY             122,948   \n",
       "10    10        BNP Paribas         BNPQY             111,531   \n",
       "\n",
       "    Profit $ millions  Employees  \\\n",
       "0   Profit $ millions  Employees   \n",
       "1               1,939     90,000   \n",
       "2              -1,520    610,076   \n",
       "3               4,100     74,500   \n",
       "4               9,345    284,015   \n",
       "5                 825    303,247   \n",
       "6               5,087     96,019   \n",
       "7              -7,764     56,490   \n",
       "8               6,231     98,279   \n",
       "9               7,339    142,459   \n",
       "10              7,426    181,551   \n",
       "\n",
       "                                         Headquarters  \\\n",
       "0                                        Headquarters   \n",
       "1   Shell Centre, London, UK, and The Hague, Nethe...   \n",
       "2                                  Wolfsburg, Germany   \n",
       "3                                          London, UK   \n",
       "4                                  Stuttgart, Germany   \n",
       "5                                        Turin, Italy   \n",
       "6                                       Paris, France   \n",
       "7                                      Essen, Germany   \n",
       "8                                       Paris, France   \n",
       "9                                     Munich, Germany   \n",
       "10                                      Paris, France   \n",
       "\n",
       "                  Industry\\n  \n",
       "0                 Industry\\n  \n",
       "1                   Energy\\n  \n",
       "2   Motor Vehicles & Parts\\n  \n",
       "3                   Energy\\n  \n",
       "4   Motor Vehicles & Parts\\n  \n",
       "5               Financials\\n  \n",
       "6                   Energy\\n  \n",
       "7                   Energy\\n  \n",
       "8               Financials\\n  \n",
       "9               Financials\\n  \n",
       "10              Financials\\n  "
      ]
     },
     "execution_count": 74,
     "metadata": {},
     "output_type": "execute_result"
    }
   ],
   "source": [
    "df=pd.DataFrame(data,columns=data_cols)\n",
    "df"
   ]
  }
 ],
 "metadata": {
  "kernelspec": {
   "display_name": "Python 3",
   "language": "python",
   "name": "python3"
  },
  "language_info": {
   "codemirror_mode": {
    "name": "ipython",
    "version": 3
   },
   "file_extension": ".py",
   "mimetype": "text/x-python",
   "name": "python",
   "nbconvert_exporter": "python",
   "pygments_lexer": "ipython3",
   "version": "3.6.5"
  }
 },
 "nbformat": 4,
 "nbformat_minor": 2
}
